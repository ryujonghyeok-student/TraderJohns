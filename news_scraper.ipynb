{
  "nbformat": 4,
  "nbformat_minor": 0,
  "metadata": {
    "colab": {
      "provenance": [],
      "authorship_tag": "ABX9TyMDuoJ7daXTIg6W/pAGWI4L"
    },
    "kernelspec": {
      "name": "python3",
      "display_name": "Python 3"
    },
    "language_info": {
      "name": "python"
    }
  },
  "cells": [
    {
      "cell_type": "code",
      "execution_count": 7,
      "metadata": {
        "id": "9SnS3Jt1-4ea"
      },
      "outputs": [],
      "source": [
        "import requests\n",
        "import datetime\n",
        "import pandas as pd\n",
        "from bs4 import BeautifulSoup\n",
        "\n",
        "requests.packages.urllib3.disable_warnings()"
      ]
    },
    {
      "cell_type": "code",
      "source": [
        "url = \"https://www.investrade.com/market-review-may-07-2024/\"\n",
        "resp = requests.get(url, verify=False)\n",
        "page = resp.text\n",
        "soup = BeautifulSoup(page, \"html.parser\")\n",
        "\n",
        "def scraper(url):\n",
        "    resp = requests.get(url, verify=False)\n",
        "    page = resp.text\n",
        "    soup = BeautifulSoup(page, \"html.parser\")\n",
        "\n",
        "    body_copy = str(soup.find_all(\"p\", {\"class\": \"body-copy\"}))\n",
        "    body_copy = body_copy.replace('<p class=\"body-copy\">', '')\n",
        "    body_copy = body_copy.replace('</p>', '')\n",
        "\n",
        "    return body_copy\n",
        "\n",
        "def date_formatter(date_string):\n",
        "    # Have to work on this datetime thingy later on.\n",
        "    date_obj = datetime.strptime(date_string, '%B %d, %Y')\n",
        "    return date_obj"
      ],
      "metadata": {
        "colab": {
          "base_uri": "https://localhost:8080/"
        },
        "id": "637OsKAj_nW2",
        "outputId": "cfc42baf-e931-43d0-8830-f8d0126e4d0f"
      },
      "execution_count": 21,
      "outputs": [
        {
          "output_type": "stream",
          "name": "stdout",
          "text": [
            "<class 'str'>\n",
            "[U.S. stocks finish mixed as major averages took a breather following a strong 3-day rally that boosted the Nasdaq, S&amp;P and Russell 2000 above key technical levels on further hopes for rate cuts by the Fed. No major U.S. economic data for a second day kept focus on earnings, as Dow component and media giant Disney (DIS) shares fell over 9% after results, along with other notable earnings-related declines in tech (DDOG, PLTR, TDC), though chips got better results from GFS and MCHP said Q2 marked the bottom. Materials (XLB) outperformed behind gains in FMC, IFF on earnings in chemicals, DOW, LYB, WLK on PE pricing headlines late day and paper stocks after IP rose on M&amp;A headlines. Defensive/interest rate sensitive sectors such as REITs and Utilities also outperformed. Technology and Consumer Discretionary were laggards. Broad gains in Europe as the Stoxx 600 jumps 1.1%, Britain’s FTSE 100 advances 1.3%, Germany’s DAX jumped 1.4%, France’s CAC 40 was up 1%, and Spain’s IBEX advanced 1.5%. Still no market moving data expected this week with the next all-important data point next week with CPI/PPI inflation for April. ,  , Interesting commentary: The Fed’s Kashkari in lone Fed speaker today said the “most likely scenario is we stay put for continued period on rates); said if disinflation comes again, or we forecast marked weakening in job market that might lead to rate cuts – but Kashkari also noted the Fed would hike rates if needed. In a CNBC interview earlier, Billionaire investor Stanley Druckenmiller on Tuesday blasted fiscal and monetary authorities, including Treasury Secretary Janet Yellen and Fed Chair Jerome Powell, for causing high inflation. So, with Fed still holding rates higher (no cuts yet) @charliebilello tweeted “Higher For Longer means…Higher credit card rates (already @ record high), Higher auto loans rates (already @ highest levels since 2001), Higher mortgage rates (already @ highest levels since 2000).]\n"
          ]
        }
      ]
    }
  ]
}